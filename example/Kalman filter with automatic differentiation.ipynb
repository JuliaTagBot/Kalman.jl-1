{
 "cells": [
  {
   "cell_type": "code",
   "execution_count": 15,
   "metadata": {},
   "outputs": [
    {
     "data": {
      "text/plain": [
       "false"
      ]
     },
     "execution_count": 15,
     "metadata": {},
     "output_type": "execute_result"
    }
   ],
   "source": [
    "!haskey(Pkg.installed(), \"GaussianDistributions\") && Pkg.clone(\"https://github.com/mschauer/GaussianDistributions.jl\")\n",
    "!haskey(Pkg.installed(), \"Kalman\") && Pkg.clone(\"https://github.com/mschauer/Kalman.jl\")"
   ]
  },
  {
   "cell_type": "code",
   "execution_count": 3,
   "metadata": {
    "collapsed": true
   },
   "outputs": [],
   "source": [
    "using Kalman\n",
    "using StaticArrays"
   ]
  },
  {
   "cell_type": "code",
   "execution_count": 4,
   "metadata": {
    "collapsed": true
   },
   "outputs": [],
   "source": [
    "using ForwardDiff\n",
    "using ForwardDiff: derivative, Dual"
   ]
  },
  {
   "cell_type": "code",
   "execution_count": 5,
   "metadata": {},
   "outputs": [
    {
     "data": {
      "text/plain": [
       "Kalman.LinearHomogSystem{Float64,Float64,Float64,Float64,Float64,Float64}(1.0, 1.0, 1.0, 0.0, 1.0, NaN, 1.0, 1.0)"
      ]
     },
     "execution_count": 5,
     "metadata": {},
     "output_type": "execute_result"
    }
   ],
   "source": [
    "\n",
    "M(x) = let x0 = 1.0,\n",
    "    P0 = 1.0,\n",
    "\n",
    "    Phi = x,\n",
    "    b = 0.0,\n",
    "    Q = 1.0,\n",
    "\n",
    "    y = NaN,\n",
    "    H = 1.0,\n",
    "    R = 1.0\n",
    "    LinearHomogSystem(x0, P0, Phi, b, Q, y, H, R)\n",
    "end\n",
    "\n",
    "θ0 = 1.0\n",
    "\n",
    "M0 = M(θ0)\n",
    "\n",
    "\n"
   ]
  },
  {
   "cell_type": "code",
   "execution_count": 6,
   "metadata": {},
   "outputs": [
    {
     "data": {
      "text/plain": [
       "([2.01703 1.1488 … 2.87387 -1.87169; -2.3329 4.0262 … 2.96398 -0.887573; … ; -4.32943 7.10397 … 8.64568 3.23839; -3.0048 7.82541 … 8.98182 0.859812], [1.80896 3.21035 … 1.08989 0.824194; -1.1101 2.11527 … 2.32186 -1.27393; … ; -4.70355 6.26218 … 8.2848 1.65268; -5.0037 7.14273 … 9.15559 1.1004])"
      ]
     },
     "execution_count": 6,
     "metadata": {},
     "output_type": "execute_result"
    }
   ],
   "source": [
    "n = 100\n",
    "k = 10\n",
    "Y, X0 = sample(n, k, M0)"
   ]
  },
  {
   "cell_type": "code",
   "execution_count": 7,
   "metadata": {},
   "outputs": [],
   "source": [
    "f(t, x, P, Ppred, ll, K) = ll\n",
    "import Kalman: mappedreturntype\n",
    "Kalman.mappedreturntype(_, ::Type{typeof(f)}) = Float64"
   ]
  },
  {
   "cell_type": "code",
   "execution_count": 8,
   "metadata": {
    "scrolled": true
   },
   "outputs": [
    {
     "data": {
      "text/plain": [
       "target (generic function with 2 methods)"
      ]
     },
     "execution_count": 8,
     "metadata": {},
     "output_type": "execute_result"
    }
   ],
   "source": [
    "target(x) = sum(sum(MappedKalmanFilter(zip(Base.Iterators.countfrom(1),view(Y, :, j)), M(x), f)) for j in 1:k)\n",
    "target(v::SVector{1}) = target(v[1])"
   ]
  },
  {
   "cell_type": "code",
   "execution_count": 14,
   "metadata": {},
   "outputs": [
    {
     "name": "stdout",
     "output_type": "stream",
     "text": [
      "0.7\n",
      "1.119214625197172\n",
      "0.9794681320562197\n",
      "0.9878044690148431\n",
      "0.9877983862786246\n",
      "0.9877983862765932\n",
      "Maximum llikelihood estimate: θ = 0.9877983862765932\n"
     ]
    }
   ],
   "source": [
    "θ = 0.7\n",
    "println(θ)\n",
    "target2(v) = target(v[1])\n",
    "for it in 1:10\n",
    "    θold = θ\n",
    "    θ = θ - inv(ForwardDiff.hessian(target2, SVector{1}(θ))[1])*ForwardDiff.derivative(target, θ)\n",
    "    θold == θ && break    \n",
    "    println(θ)\n",
    "end\n",
    "println(\"Maximum llikelihood estimate: θ = $θ\")"
   ]
  }
 ],
 "metadata": {
  "kernelspec": {
   "display_name": "Julia 0.6.2",
   "language": "julia",
   "name": "julia-0.6"
  },
  "language_info": {
   "file_extension": ".jl",
   "mimetype": "application/julia",
   "name": "julia",
   "version": "0.6.2"
  }
 },
 "nbformat": 4,
 "nbformat_minor": 2
}
